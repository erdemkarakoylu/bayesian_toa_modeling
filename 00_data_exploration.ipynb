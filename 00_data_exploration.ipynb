{
 "cells": [
  {
   "cell_type": "markdown",
   "metadata": {},
   "source": [
    "Data Source: [here](https://doi.pangaea.de/10.1594/PANGAEA.915747?format=html#download)"
   ]
  },
  {
   "cell_type": "code",
   "execution_count": 2,
   "metadata": {},
   "outputs": [],
   "source": [
    "from pathlib import Path\n",
    "import pandas as pd\n",
    "import matplotlib.pyplot as pl\n",
    "import sqlite3\n",
    "from scripts.eda_utils import plot_stats\n",
    "from tqdm import tqdm\n",
    "from time import sleep"
   ]
  },
  {
   "cell_type": "code",
   "execution_count": 4,
   "metadata": {},
   "outputs": [],
   "source": [
    "DATA_PATH = Path.cwd()/'data/Craig-etal_all_data'\n",
    "DATA_FILES = list(DATA_PATH.glob('*.txt'))\n",
    "DATA_FILE_DICT = {\n",
    "    file.stem:{\"file\": file, \"db_name\":file.stem.lower()} \n",
    "    for file in DATA_FILES}\n",
    "CONN = sqlite3.connect('simulated_2023.db')"
   ]
  },
  {
   "cell_type": "code",
   "execution_count": 51,
   "metadata": {},
   "outputs": [],
   "source": [
    "def process_data():\n",
    "    \"\"\"Loads data, plots descriptive stats and saves the plots, then stashes the data into a database.\"\"\"\n",
    "    for name, file_dict in tqdm(DATA_FILE_DICT.items()):\n",
    "        file_path = file_dict['file']\n",
    "        # load data\n",
    "        df = read_data_in(file_path)\n",
    "        # plot stats\n",
    "        f, ax = plot_stats(df.describe(), name=name)\n",
    "        #f('off')\n",
    "        f.savefig(f'./figures/eda_and_stat_plots/{name}.png', dpi=300)\n",
    "        # save to database\n",
    "        df.to_sql(name, CONN, index=True, if_exists=\"replace\")"
   ]
  },
  {
   "cell_type": "code",
   "execution_count": null,
   "metadata": {},
   "outputs": [],
   "source": [
    "process_data()"
   ]
  },
  {
   "cell_type": "code",
   "execution_count": null,
   "metadata": {},
   "outputs": [],
   "source": []
  }
 ],
 "metadata": {
  "kernelspec": {
   "display_name": "pymc_base",
   "language": "python",
   "name": "python3"
  },
  "language_info": {
   "codemirror_mode": {
    "name": "ipython",
    "version": 3
   },
   "file_extension": ".py",
   "mimetype": "text/x-python",
   "name": "python",
   "nbconvert_exporter": "python",
   "pygments_lexer": "ipython3",
   "version": "3.11.5"
  },
  "orig_nbformat": 4
 },
 "nbformat": 4,
 "nbformat_minor": 2
}
